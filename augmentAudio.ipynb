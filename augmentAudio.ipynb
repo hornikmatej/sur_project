{
 "cells": [
  {
   "cell_type": "code",
   "execution_count": 4,
   "id": "6d3588d0-1d55-48ea-86b6-7e439d94c988",
   "metadata": {},
   "outputs": [],
   "source": [
    "import torch\n",
    "import torchaudio\n",
    "import torchaudio.functional as F\n",
    "from scipy.io import wavfile\n",
    "from glob import glob"
   ]
  },
  {
   "cell_type": "code",
   "execution_count": 2,
   "id": "41cbb575-8bd4-4c77-9fd7-0c54c92c9965",
   "metadata": {},
   "outputs": [],
   "source": [
    "# Apply effects\n",
    "def apply_effect(waveform, sample_rate, effect):\n",
    "    effector = torchaudio.io.AudioEffector(effect=effect)\n",
    "    return effector.apply(waveform, sample_rate)"
   ]
  },
  {
   "cell_type": "code",
   "execution_count": 3,
   "id": "0ae800c7-c6a3-4980-a664-a056ebcab9e0",
   "metadata": {},
   "outputs": [
    {
     "name": "stdout",
     "output_type": "stream",
     "text": [
      "Processing file:  data/target_train\\m430_01_p01_i0_0.wav\n"
     ]
    },
    {
     "ename": "ImportError",
     "evalue": "Failed to intialize FFmpeg extension. Tried versions: ['6', '5', '4', '']. Enable DEBUG logging to see more details about the error.",
     "output_type": "error",
     "traceback": [
      "\u001b[1;31m---------------------------------------------------------------------------\u001b[0m",
      "\u001b[1;31mImportError\u001b[0m                               Traceback (most recent call last)",
      "Cell \u001b[1;32mIn[3], line 24\u001b[0m\n\u001b[0;32m     14\u001b[0m \u001b[38;5;66;03m# Define effects\u001b[39;00m\n\u001b[0;32m     15\u001b[0m effect \u001b[38;5;241m=\u001b[39m \u001b[38;5;124m\"\u001b[39m\u001b[38;5;124m,\u001b[39m\u001b[38;5;124m\"\u001b[39m\u001b[38;5;241m.\u001b[39mjoin(\n\u001b[0;32m     16\u001b[0m     [\n\u001b[0;32m     17\u001b[0m         \u001b[38;5;124m\"\u001b[39m\u001b[38;5;124mlowpass=frequency=300:poles=1\u001b[39m\u001b[38;5;124m\"\u001b[39m,  \u001b[38;5;66;03m# apply single-pole lowpass filter\u001b[39;00m\n\u001b[1;32m   (...)\u001b[0m\n\u001b[0;32m     21\u001b[0m     ],\n\u001b[0;32m     22\u001b[0m )\n\u001b[1;32m---> 24\u001b[0m new_wav \u001b[38;5;241m=\u001b[39m \u001b[43mapply_effect\u001b[49m\u001b[43m(\u001b[49m\u001b[43mwaveform\u001b[49m\u001b[43m,\u001b[49m\u001b[43m \u001b[49m\u001b[43msample_rate\u001b[49m\u001b[43m,\u001b[49m\u001b[43m \u001b[49m\u001b[43meffect\u001b[49m\u001b[43m)\u001b[49m\n\u001b[0;32m     26\u001b[0m wavfile\u001b[38;5;241m.\u001b[39mwrite(dst \u001b[38;5;241m+\u001b[39m filename \u001b[38;5;241m+\u001b[39m \u001b[38;5;124mf\u001b[39m\u001b[38;5;124m'\u001b[39m\u001b[38;5;132;01m{\u001b[39;00maug_idx\u001b[38;5;132;01m}\u001b[39;00m\u001b[38;5;124m.wav\u001b[39m\u001b[38;5;124m'\u001b[39m,sample_rate,new_wav)\n",
      "Cell \u001b[1;32mIn[2], line 4\u001b[0m, in \u001b[0;36mapply_effect\u001b[1;34m(waveform, sample_rate, effect)\u001b[0m\n\u001b[0;32m      2\u001b[0m \u001b[38;5;28;01mdef\u001b[39;00m \u001b[38;5;21mapply_effect\u001b[39m(waveform, sample_rate, effect):\n\u001b[0;32m      3\u001b[0m     effector \u001b[38;5;241m=\u001b[39m torchaudio\u001b[38;5;241m.\u001b[39mio\u001b[38;5;241m.\u001b[39mAudioEffector(effect\u001b[38;5;241m=\u001b[39meffect)\n\u001b[1;32m----> 4\u001b[0m     \u001b[38;5;28;01mreturn\u001b[39;00m \u001b[43meffector\u001b[49m\u001b[38;5;241;43m.\u001b[39;49m\u001b[43mapply\u001b[49m\u001b[43m(\u001b[49m\u001b[43mwaveform\u001b[49m\u001b[43m,\u001b[49m\u001b[43m \u001b[49m\u001b[43msample_rate\u001b[49m\u001b[43m)\u001b[49m\n",
      "File \u001b[1;32m~\\AppData\\Local\\Programs\\Python\\Python312\\Lib\\site-packages\\torchaudio\\io\\_effector.py:313\u001b[0m, in \u001b[0;36mAudioEffector.apply\u001b[1;34m(self, waveform, sample_rate, output_sample_rate)\u001b[0m\n\u001b[0;32m    310\u001b[0m \u001b[38;5;28;01mif\u001b[39;00m waveform\u001b[38;5;241m.\u001b[39mnumel() \u001b[38;5;241m==\u001b[39m \u001b[38;5;241m0\u001b[39m:\n\u001b[0;32m    311\u001b[0m     \u001b[38;5;28;01mreturn\u001b[39;00m waveform\n\u001b[1;32m--> 313\u001b[0m reader \u001b[38;5;241m=\u001b[39m \u001b[38;5;28;43mself\u001b[39;49m\u001b[38;5;241;43m.\u001b[39;49m\u001b[43m_get_reader\u001b[49m\u001b[43m(\u001b[49m\u001b[43mwaveform\u001b[49m\u001b[43m,\u001b[49m\u001b[43m \u001b[49m\u001b[43msample_rate\u001b[49m\u001b[43m,\u001b[49m\u001b[43m \u001b[49m\u001b[43moutput_sample_rate\u001b[49m\u001b[43m)\u001b[49m\n\u001b[0;32m    314\u001b[0m reader\u001b[38;5;241m.\u001b[39mprocess_all_packets()\n\u001b[0;32m    315\u001b[0m (applied,) \u001b[38;5;241m=\u001b[39m reader\u001b[38;5;241m.\u001b[39mpop_chunks()\n",
      "File \u001b[1;32m~\\AppData\\Local\\Programs\\Python\\Python312\\Lib\\site-packages\\torchaudio\\io\\_effector.py:275\u001b[0m, in \u001b[0;36mAudioEffector._get_reader\u001b[1;34m(self, waveform, sample_rate, output_sample_rate, frames_per_chunk)\u001b[0m\n\u001b[0;32m    272\u001b[0m     option \u001b[38;5;241m=\u001b[39m {\u001b[38;5;124m\"\u001b[39m\u001b[38;5;124msample_rate\u001b[39m\u001b[38;5;124m\"\u001b[39m: \u001b[38;5;124mf\u001b[39m\u001b[38;5;124m\"\u001b[39m\u001b[38;5;132;01m{\u001b[39;00msample_rate\u001b[38;5;132;01m}\u001b[39;00m\u001b[38;5;124m\"\u001b[39m, \u001b[38;5;124m\"\u001b[39m\u001b[38;5;124mchannels\u001b[39m\u001b[38;5;124m\"\u001b[39m: \u001b[38;5;124mf\u001b[39m\u001b[38;5;124m\"\u001b[39m\u001b[38;5;132;01m{\u001b[39;00mnum_channels\u001b[38;5;132;01m}\u001b[39;00m\u001b[38;5;124m\"\u001b[39m}\n\u001b[0;32m    274\u001b[0m \u001b[38;5;28;01mif\u001b[39;00m frames_per_chunk \u001b[38;5;129;01mis\u001b[39;00m \u001b[38;5;28;01mNone\u001b[39;00m:\n\u001b[1;32m--> 275\u001b[0m     src \u001b[38;5;241m=\u001b[39m \u001b[43m_encode\u001b[49m\u001b[43m(\u001b[49m\u001b[43mwaveform\u001b[49m\u001b[43m,\u001b[49m\u001b[43m \u001b[49m\u001b[43msample_rate\u001b[49m\u001b[43m,\u001b[49m\u001b[43m \u001b[49m\u001b[38;5;28;43mself\u001b[39;49m\u001b[38;5;241;43m.\u001b[39;49m\u001b[43meffect\u001b[49m\u001b[43m,\u001b[49m\u001b[43m \u001b[49m\u001b[43mmuxer\u001b[49m\u001b[43m,\u001b[49m\u001b[43m \u001b[49m\u001b[43mencoder\u001b[49m\u001b[43m,\u001b[49m\u001b[43m \u001b[49m\u001b[38;5;28;43mself\u001b[39;49m\u001b[38;5;241;43m.\u001b[39;49m\u001b[43mcodec_config\u001b[49m\u001b[43m)\u001b[49m\n\u001b[0;32m    276\u001b[0m \u001b[38;5;28;01melse\u001b[39;00m:\n\u001b[0;32m    277\u001b[0m     src \u001b[38;5;241m=\u001b[39m _AudioStreamingEncoder(\n\u001b[0;32m    278\u001b[0m         waveform, sample_rate, \u001b[38;5;28mself\u001b[39m\u001b[38;5;241m.\u001b[39meffect, muxer, encoder, \u001b[38;5;28mself\u001b[39m\u001b[38;5;241m.\u001b[39mcodec_config, frames_per_chunk\n\u001b[0;32m    279\u001b[0m     )\n",
      "File \u001b[1;32m~\\AppData\\Local\\Programs\\Python\\Python312\\Lib\\site-packages\\torchaudio\\io\\_effector.py:98\u001b[0m, in \u001b[0;36m_encode\u001b[1;34m(src, sample_rate, effect, muxer, encoder, codec_config)\u001b[0m\n\u001b[0;32m     89\u001b[0m \u001b[38;5;28;01mdef\u001b[39;00m \u001b[38;5;21m_encode\u001b[39m(\n\u001b[0;32m     90\u001b[0m     src: Tensor,\n\u001b[0;32m     91\u001b[0m     sample_rate: \u001b[38;5;28mint\u001b[39m,\n\u001b[1;32m   (...)\u001b[0m\n\u001b[0;32m     95\u001b[0m     codec_config: Optional[CodecConfig],\n\u001b[0;32m     96\u001b[0m ):\n\u001b[0;32m     97\u001b[0m     buffer \u001b[38;5;241m=\u001b[39m io\u001b[38;5;241m.\u001b[39mBytesIO()\n\u001b[1;32m---> 98\u001b[0m     writer \u001b[38;5;241m=\u001b[39m \u001b[43mStreamWriter\u001b[49m\u001b[43m(\u001b[49m\u001b[43mbuffer\u001b[49m\u001b[43m,\u001b[49m\u001b[43m \u001b[49m\u001b[38;5;28;43mformat\u001b[39;49m\u001b[38;5;241;43m=\u001b[39;49m\u001b[43mmuxer\u001b[49m\u001b[43m)\u001b[49m\n\u001b[0;32m     99\u001b[0m     writer\u001b[38;5;241m.\u001b[39madd_audio_stream(\n\u001b[0;32m    100\u001b[0m         num_channels\u001b[38;5;241m=\u001b[39msrc\u001b[38;5;241m.\u001b[39msize(\u001b[38;5;241m1\u001b[39m),\n\u001b[0;32m    101\u001b[0m         sample_rate\u001b[38;5;241m=\u001b[39msample_rate,\n\u001b[1;32m   (...)\u001b[0m\n\u001b[0;32m    105\u001b[0m         codec_config\u001b[38;5;241m=\u001b[39mcodec_config,\n\u001b[0;32m    106\u001b[0m     )\n\u001b[0;32m    107\u001b[0m     \u001b[38;5;28;01mwith\u001b[39;00m writer\u001b[38;5;241m.\u001b[39mopen():\n",
      "File \u001b[1;32m~\\AppData\\Local\\Programs\\Python\\Python312\\Lib\\site-packages\\torio\\io\\_streaming_media_encoder.py:197\u001b[0m, in \u001b[0;36mStreamingMediaEncoder.__init__\u001b[1;34m(self, dst, format, buffer_size)\u001b[0m\n\u001b[0;32m    190\u001b[0m \u001b[38;5;28;01mdef\u001b[39;00m \u001b[38;5;21m__init__\u001b[39m(\n\u001b[0;32m    191\u001b[0m     \u001b[38;5;28mself\u001b[39m,\n\u001b[0;32m    192\u001b[0m     dst: Union[\u001b[38;5;28mstr\u001b[39m, Path, BinaryIO],\n\u001b[0;32m    193\u001b[0m     \u001b[38;5;28mformat\u001b[39m: Optional[\u001b[38;5;28mstr\u001b[39m] \u001b[38;5;241m=\u001b[39m \u001b[38;5;28;01mNone\u001b[39;00m,\n\u001b[0;32m    194\u001b[0m     buffer_size: \u001b[38;5;28mint\u001b[39m \u001b[38;5;241m=\u001b[39m \u001b[38;5;241m4096\u001b[39m,\n\u001b[0;32m    195\u001b[0m ):\n\u001b[0;32m    196\u001b[0m     \u001b[38;5;28;01mif\u001b[39;00m \u001b[38;5;28mhasattr\u001b[39m(dst, \u001b[38;5;124m\"\u001b[39m\u001b[38;5;124mwrite\u001b[39m\u001b[38;5;124m\"\u001b[39m):\n\u001b[1;32m--> 197\u001b[0m         \u001b[38;5;28mself\u001b[39m\u001b[38;5;241m.\u001b[39m_s \u001b[38;5;241m=\u001b[39m \u001b[43mffmpeg_ext\u001b[49m\u001b[38;5;241;43m.\u001b[39;49m\u001b[43mStreamingMediaEncoderFileObj\u001b[49m(dst, \u001b[38;5;28mformat\u001b[39m, buffer_size)\n\u001b[0;32m    198\u001b[0m     \u001b[38;5;28;01melse\u001b[39;00m:\n\u001b[0;32m    199\u001b[0m         \u001b[38;5;28mself\u001b[39m\u001b[38;5;241m.\u001b[39m_s \u001b[38;5;241m=\u001b[39m ffmpeg_ext\u001b[38;5;241m.\u001b[39mStreamingMediaEncoder(\u001b[38;5;28mstr\u001b[39m(dst), \u001b[38;5;28mformat\u001b[39m)\n",
      "File \u001b[1;32m~\\AppData\\Local\\Programs\\Python\\Python312\\Lib\\site-packages\\torio\\_extension\\utils.py:25\u001b[0m, in \u001b[0;36m_LazyImporter.__getattr__\u001b[1;34m(self, item)\u001b[0m\n\u001b[0;32m     24\u001b[0m \u001b[38;5;28;01mdef\u001b[39;00m \u001b[38;5;21m__getattr__\u001b[39m(\u001b[38;5;28mself\u001b[39m, item):\n\u001b[1;32m---> 25\u001b[0m     \u001b[38;5;28;43mself\u001b[39;49m\u001b[38;5;241;43m.\u001b[39;49m\u001b[43m_import_once\u001b[49m\u001b[43m(\u001b[49m\u001b[43m)\u001b[49m\n\u001b[0;32m     26\u001b[0m     \u001b[38;5;28;01mreturn\u001b[39;00m \u001b[38;5;28mgetattr\u001b[39m(\u001b[38;5;28mself\u001b[39m\u001b[38;5;241m.\u001b[39mmodule, item)\n",
      "File \u001b[1;32m~\\AppData\\Local\\Programs\\Python\\Python312\\Lib\\site-packages\\torio\\_extension\\utils.py:39\u001b[0m, in \u001b[0;36m_LazyImporter._import_once\u001b[1;34m(self)\u001b[0m\n\u001b[0;32m     37\u001b[0m \u001b[38;5;28;01mdef\u001b[39;00m \u001b[38;5;21m_import_once\u001b[39m(\u001b[38;5;28mself\u001b[39m):\n\u001b[0;32m     38\u001b[0m     \u001b[38;5;28;01mif\u001b[39;00m \u001b[38;5;28mself\u001b[39m\u001b[38;5;241m.\u001b[39mmodule \u001b[38;5;129;01mis\u001b[39;00m \u001b[38;5;28;01mNone\u001b[39;00m:\n\u001b[1;32m---> 39\u001b[0m         \u001b[38;5;28mself\u001b[39m\u001b[38;5;241m.\u001b[39mmodule \u001b[38;5;241m=\u001b[39m \u001b[38;5;28;43mself\u001b[39;49m\u001b[38;5;241;43m.\u001b[39;49m\u001b[43mimport_func\u001b[49m\u001b[43m(\u001b[49m\u001b[43m)\u001b[49m\n\u001b[0;32m     40\u001b[0m         \u001b[38;5;66;03m# Note:\u001b[39;00m\n\u001b[0;32m     41\u001b[0m         \u001b[38;5;66;03m# By attaching the module attributes to self,\u001b[39;00m\n\u001b[0;32m     42\u001b[0m         \u001b[38;5;66;03m# module attributes are directly accessible.\u001b[39;00m\n\u001b[0;32m     43\u001b[0m         \u001b[38;5;66;03m# This allows to avoid calling __getattr__ for every attribute access.\u001b[39;00m\n\u001b[0;32m     44\u001b[0m         \u001b[38;5;28mself\u001b[39m\u001b[38;5;241m.\u001b[39m\u001b[38;5;18m__dict__\u001b[39m\u001b[38;5;241m.\u001b[39mupdate(\u001b[38;5;28mself\u001b[39m\u001b[38;5;241m.\u001b[39mmodule\u001b[38;5;241m.\u001b[39m\u001b[38;5;18m__dict__\u001b[39m)\n",
      "File \u001b[1;32m~\\AppData\\Local\\Programs\\Python\\Python312\\Lib\\site-packages\\torio\\_extension\\utils.py:143\u001b[0m, in \u001b[0;36m_init_ffmpeg\u001b[1;34m()\u001b[0m\n\u001b[0;32m    141\u001b[0m \u001b[38;5;28;01mdef\u001b[39;00m \u001b[38;5;21m_init_ffmpeg\u001b[39m():\n\u001b[0;32m    142\u001b[0m     ffmpeg_vers \u001b[38;5;241m=\u001b[39m _get_ffmpeg_versions()\n\u001b[1;32m--> 143\u001b[0m     ext \u001b[38;5;241m=\u001b[39m \u001b[43m_find_ffmpeg_extension\u001b[49m\u001b[43m(\u001b[49m\u001b[43mffmpeg_vers\u001b[49m\u001b[43m)\u001b[49m\n\u001b[0;32m    144\u001b[0m     ext\u001b[38;5;241m.\u001b[39minit()\n\u001b[0;32m    145\u001b[0m     \u001b[38;5;28;01mif\u001b[39;00m ext\u001b[38;5;241m.\u001b[39mget_log_level() \u001b[38;5;241m>\u001b[39m \u001b[38;5;241m8\u001b[39m:\n",
      "File \u001b[1;32m~\\AppData\\Local\\Programs\\Python\\Python312\\Lib\\site-packages\\torio\\_extension\\utils.py:122\u001b[0m, in \u001b[0;36m_find_ffmpeg_extension\u001b[1;34m(ffmpeg_vers)\u001b[0m\n\u001b[0;32m    120\u001b[0m         _LG\u001b[38;5;241m.\u001b[39mdebug(\u001b[38;5;124m\"\u001b[39m\u001b[38;5;124mFailed to load FFmpeg\u001b[39m\u001b[38;5;132;01m%s\u001b[39;00m\u001b[38;5;124m extension.\u001b[39m\u001b[38;5;124m\"\u001b[39m, ffmpeg_ver, exc_info\u001b[38;5;241m=\u001b[39m\u001b[38;5;28;01mTrue\u001b[39;00m)\n\u001b[0;32m    121\u001b[0m         \u001b[38;5;28;01mcontinue\u001b[39;00m\n\u001b[1;32m--> 122\u001b[0m \u001b[38;5;28;01mraise\u001b[39;00m \u001b[38;5;167;01mImportError\u001b[39;00m(\n\u001b[0;32m    123\u001b[0m     \u001b[38;5;124mf\u001b[39m\u001b[38;5;124m\"\u001b[39m\u001b[38;5;124mFailed to intialize FFmpeg extension. Tried versions: \u001b[39m\u001b[38;5;132;01m{\u001b[39;00mffmpeg_vers\u001b[38;5;132;01m}\u001b[39;00m\u001b[38;5;124m. \u001b[39m\u001b[38;5;124m\"\u001b[39m\n\u001b[0;32m    124\u001b[0m     \u001b[38;5;124m\"\u001b[39m\u001b[38;5;124mEnable DEBUG logging to see more details about the error.\u001b[39m\u001b[38;5;124m\"\u001b[39m\n\u001b[0;32m    125\u001b[0m )\n",
      "\u001b[1;31mImportError\u001b[0m: Failed to intialize FFmpeg extension. Tried versions: ['6', '5', '4', '']. Enable DEBUG logging to see more details about the error."
     ]
    }
   ],
   "source": [
    "dir_name='data/target_train/'\n",
    "dst = 'data/target_train_augment/'\n",
    "# dir_name='data/non_target_train/'\n",
    "# dst = 'data/non_target_train_augment/'\n",
    "\n",
    "for f in glob(dir_name + '/*.wav'):\n",
    "    print('Processing file: ', f)\n",
    "    # Load the data\n",
    "    waveform, sample_rate = torchaudio.load('data/non_target_dev/f407_01_f13_i0_0.wav')\n",
    "    # sample_rate, s = wavfile.read(f)\n",
    "    # print(s[10000])\n",
    "    filename =f.split('/')[len(f.split('/'))-1].replace('.wav','')\n",
    "    \n",
    "    # Define effects\n",
    "    effect = \",\".join(\n",
    "        [\n",
    "            \"lowpass=frequency=300:poles=1\",  # apply single-pole lowpass filter\n",
    "            \"atempo=0.8\",  # reduce the speed\n",
    "            \"aecho=in_gain=0.8:out_gain=0.9:delays=200:decays=0.3|delays=400:decays=0.3\"\n",
    "            # Applying echo gives some dramatic feeling\n",
    "        ],\n",
    "    )\n",
    "       \n",
    "    new_wav = apply_effect(waveform, sample_rate, effect)\n",
    "    \n",
    "    wavfile.write(dst + filename + f'{aug_idx}.wav',sample_rate,new_wav)"
   ]
  }
 ],
 "metadata": {
  "kernelspec": {
   "display_name": "Python 3 (ipykernel)",
   "language": "python",
   "name": "python3"
  },
  "language_info": {
   "codemirror_mode": {
    "name": "ipython",
    "version": 3
   },
   "file_extension": ".py",
   "mimetype": "text/x-python",
   "name": "python",
   "nbconvert_exporter": "python",
   "pygments_lexer": "ipython3",
   "version": "3.12.2"
  }
 },
 "nbformat": 4,
 "nbformat_minor": 5
}
